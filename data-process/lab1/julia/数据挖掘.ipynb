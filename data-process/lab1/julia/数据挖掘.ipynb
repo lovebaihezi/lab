{
 "cells": [
  {
   "cell_type": "code",
   "execution_count": 2,
   "id": "e50b8909",
   "metadata": {},
   "outputs": [],
   "source": [
    "import XLSX;\n",
    "import CSV;\n",
    "import Plots;\n",
    "import StatsPlots;\n",
    "import Dates;\n",
    "import DataFrames;\n",
    "import PyPlot;"
   ]
  },
  {
   "cell_type": "code",
   "execution_count": 3,
   "id": "7ce1067e",
   "metadata": {},
   "outputs": [
    {
     "data": {
      "text/plain": [
       "12×1 Matrix{Any}:\n",
       "  50\n",
       "  51\n",
       "  67\n",
       "  70\n",
       "  72\n",
       "  72\n",
       "  76\n",
       "  80\n",
       "  83\n",
       "  90\n",
       "  90\n",
       " 130"
      ]
     },
     "execution_count": 3,
     "metadata": {},
     "output_type": "execute_result"
    }
   ],
   "source": [
    "for i in ['C', 'D']\n",
    "    convert(, \n",
    "end"
   ]
  },
  {
   "cell_type": "code",
   "execution_count": null,
   "id": "40cc80ae",
   "metadata": {},
   "outputs": [],
   "source": []
  }
 ],
 "metadata": {
  "kernelspec": {
   "display_name": "Julia 1.6.3",
   "language": "julia",
   "name": "julia-1.6"
  },
  "language_info": {
   "file_extension": ".jl",
   "mimetype": "application/julia",
   "name": "julia",
   "version": "1.6.3"
  }
 },
 "nbformat": 4,
 "nbformat_minor": 5
}
