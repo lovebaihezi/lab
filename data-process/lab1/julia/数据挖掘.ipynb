{
 "cells": [
  {
   "cell_type": "code",
   "execution_count": 10,
   "id": "e50b8909",
   "metadata": {},
   "outputs": [],
   "source": [
    "import XLSX;\n",
    "import CSV;\n",
    "import Plots;\n",
    "import StatsPlots;\n",
    "import Dates;\n",
    "import DataFrames;\n",
    "import PyPlot;"
   ]
  },
  {
   "cell_type": "code",
   "execution_count": 11,
   "id": "7ce1067e",
   "metadata": {},
   "outputs": [
    {
     "ename": "LoadError",
     "evalue": "UndefVarError: DataFrame not defined",
     "output_type": "error",
     "traceback": [
      "UndefVarError: DataFrame not defined",
      "",
      "Stacktrace:",
      " [1] top-level scope",
      "   @ In[11]:2",
      " [2] eval",
      "   @ ./boot.jl:360 [inlined]",
      " [3] include_string(mapexpr::typeof(REPL.softscope), mod::Module, code::String, filename::String)",
      "   @ Base ./loading.jl:1116"
     ]
    }
   ],
   "source": [
    "file_path = \"file/xian_guangdian.csv\";\n",
    "data = file_path |> CSV.File |> DataFrame\n",
    "select!(data, [\"网络类型\", \"计费对象\"]);\n",
    "data = groupby(data, \"计费对象\") |> combine"
   ]
  },
  {
   "cell_type": "code",
   "execution_count": null,
   "id": "40cc80ae",
   "metadata": {},
   "outputs": [],
   "source": []
  }
 ],
 "metadata": {
  "kernelspec": {
   "display_name": "Julia 1.6.3",
   "language": "julia",
   "name": "julia-1.6"
  },
  "language_info": {
   "file_extension": ".jl",
   "mimetype": "application/julia",
   "name": "julia",
   "version": "1.6.3"
  }
 },
 "nbformat": 4,
 "nbformat_minor": 5
}
